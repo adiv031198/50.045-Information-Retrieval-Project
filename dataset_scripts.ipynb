{
 "cells": [
  {
   "cell_type": "code",
   "execution_count": 1,
   "metadata": {},
   "outputs": [],
   "source": [
    "import pandas as pd"
   ]
  },
  {
   "cell_type": "code",
   "execution_count": 2,
   "metadata": {},
   "outputs": [],
   "source": [
    "data = pd.read_csv('anime_with_synopsis.csv')\n",
    "data2 = pd.read_csv('anime.csv')"
   ]
  },
  {
   "cell_type": "code",
   "execution_count": 3,
   "metadata": {},
   "outputs": [],
   "source": [
    "# combining the 2 datasets and saving only relevant columns\n",
    "combined = data.join(data2, on=\"MAL_ID\", rsuffix=\"_ex\")\n",
    "combined = combined.loc[:, [\"MAL_ID\", \"Name\", \"Score\", \"Genres\", \"sypnopsis\", \"Type\", \"Aired\", \"Studios\"]]\n",
    "\n",
    "combined.to_csv(\"combined_relevant_dataset.csv\", index=False)"
   ]
  },
  {
   "cell_type": "code",
   "execution_count": 12,
   "metadata": {},
   "outputs": [],
   "source": [
    "# creating test set\n",
    "\n",
    "test_set = combined.sample(n=50, random_state=47)\n",
    "test_set.to_csv(\"test_dataset.csv\", index=False)\n",
    "# test_set.to_excel(\"test_dataset.xlsx\", index=False)"
   ]
  }
 ],
 "metadata": {
  "kernelspec": {
   "display_name": "Python 3.10.4 64-bit",
   "language": "python",
   "name": "python3"
  },
  "language_info": {
   "codemirror_mode": {
    "name": "ipython",
    "version": 3
   },
   "file_extension": ".py",
   "mimetype": "text/x-python",
   "name": "python",
   "nbconvert_exporter": "python",
   "pygments_lexer": "ipython3",
   "version": "3.10.4"
  },
  "orig_nbformat": 4,
  "vscode": {
   "interpreter": {
    "hash": "d88df46bc0668bf185eb5c261f7c596e5e3e4cc57268c38c9e746c1f14dfeb3e"
   }
  }
 },
 "nbformat": 4,
 "nbformat_minor": 2
}
