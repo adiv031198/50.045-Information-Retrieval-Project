{
  "nbformat": 4,
  "nbformat_minor": 0,
  "metadata": {
    "colab": {
      "name": " IR_BM25.ipynb",
      "provenance": []
    },
    "kernelspec": {
      "name": "python3",
      "display_name": "Python 3"
    },
    "language_info": {
      "name": "python"
    },
    "accelerator": "GPU",
    "gpuClass": "standard"
  },
  "cells": [
    {
      "cell_type": "code",
      "execution_count": 1,
      "metadata": {
        "id": "DONVURfLhG14",
        "colab": {
          "base_uri": "https://localhost:8080/"
        },
        "outputId": "8b562c8e-a92f-4989-d74e-33f9413c005d"
      },
      "outputs": [
        {
          "output_type": "stream",
          "name": "stderr",
          "text": [
            "[nltk_data] Downloading package stopwords to /root/nltk_data...\n",
            "[nltk_data]   Unzipping corpora/stopwords.zip.\n"
          ]
        },
        {
          "output_type": "execute_result",
          "data": {
            "text/plain": [
              "True"
            ]
          },
          "metadata": {},
          "execution_count": 1
        }
      ],
      "source": [
        "# run the BM25_search to get the result\n",
        "import numpy as np\n",
        "import pandas as pd\n",
        "import re\n",
        "from collections import defaultdict\n",
        "from nltk.stem import PorterStemmer\n",
        "from nltk.corpus import stopwords \n",
        "import nltk\n",
        "import math\n",
        "nltk.download('stopwords')\n"
      ]
    },
    {
      "cell_type": "code",
      "source": [
        "# create stopwords list\n",
        "stop_words = set(stopwords.words('english'))\n",
        "stem = PorterStemmer()"
      ],
      "metadata": {
        "id": "1f8NqfMTsRoi"
      },
      "execution_count": 2,
      "outputs": []
    },
    {
      "cell_type": "code",
      "source": [
        "data = pd.read_csv('/content/drive/MyDrive/IR_Project/anime_with_synopsis.csv')\n",
        "data['Input Data'] = data['Name'].apply(str)  + \" \" + data['Genres'].apply(str) + \" \" + data['sypnopsis'].apply(str) \n",
        "\n",
        "\n",
        "data\n"
      ],
      "metadata": {
        "id": "eo9fqBGtq9Ns",
        "colab": {
          "base_uri": "https://localhost:8080/",
          "height": 424
        },
        "outputId": "a01c8174-d292-49b9-c98f-d10a0266857c"
      },
      "execution_count": 26,
      "outputs": [
        {
          "output_type": "execute_result",
          "data": {
            "text/plain": [
              "       MAL_ID                             Name    Score  \\\n",
              "0           1                     Cowboy Bebop     8.78   \n",
              "1           5  Cowboy Bebop: Tengoku no Tobira     8.39   \n",
              "2           6                           Trigun     8.24   \n",
              "3           7               Witch Hunter Robin     7.27   \n",
              "4           8                   Bouken Ou Beet     6.98   \n",
              "...       ...                              ...      ...   \n",
              "16209   48481  Daomu Biji Zhi Qinling Shen Shu  Unknown   \n",
              "16210   48483                     Mieruko-chan  Unknown   \n",
              "16211   48488  Higurashi no Naku Koro ni Sotsu  Unknown   \n",
              "16212   48491      Yama no Susume: Next Summit  Unknown   \n",
              "16213   48492                    Scarlet Nexus  Unknown   \n",
              "\n",
              "                                                  Genres  \\\n",
              "0        Action, Adventure, Comedy, Drama, Sci-Fi, Space   \n",
              "1                  Action, Drama, Mystery, Sci-Fi, Space   \n",
              "2      Action, Sci-Fi, Adventure, Comedy, Drama, Shounen   \n",
              "3      Action, Mystery, Police, Supernatural, Drama, ...   \n",
              "4              Adventure, Fantasy, Shounen, Supernatural   \n",
              "...                                                  ...   \n",
              "16209                   Adventure, Mystery, Supernatural   \n",
              "16210                       Comedy, Horror, Supernatural   \n",
              "16211  Mystery, Dementia, Horror, Psychological, Supe...   \n",
              "16212                   Adventure, Slice of Life, Comedy   \n",
              "16213                                    Action, Fantasy   \n",
              "\n",
              "                                               sypnopsis  \\\n",
              "0      In the year 2071, humanity has colonized sever...   \n",
              "1      other day, another bounty—such is the life of ...   \n",
              "2      Vash the Stampede is the man with a $$60,000,0...   \n",
              "3      ches are individuals with special powers like ...   \n",
              "4      It is the dark century and the people are suff...   \n",
              "...                                                  ...   \n",
              "16209  No synopsis information has been added to this...   \n",
              "16210  ko is a typical high school student whose life...   \n",
              "16211          Sequel to Higurashi no Naku Koro ni Gou .   \n",
              "16212                          New Yama no Susume anime.   \n",
              "16213  Solar calendar year 2020: grotesque organisms ...   \n",
              "\n",
              "                                              Input Data  \n",
              "0      Cowboy Bebop Action, Adventure, Comedy, Drama,...  \n",
              "1      Cowboy Bebop: Tengoku no Tobira Action, Drama,...  \n",
              "2      Trigun Action, Sci-Fi, Adventure, Comedy, Dram...  \n",
              "3      Witch Hunter Robin Action, Mystery, Police, Su...  \n",
              "4      Bouken Ou Beet Adventure, Fantasy, Shounen, Su...  \n",
              "...                                                  ...  \n",
              "16209  Daomu Biji Zhi Qinling Shen Shu Adventure, Mys...  \n",
              "16210  Mieruko-chan Comedy, Horror, Supernatural ko i...  \n",
              "16211  Higurashi no Naku Koro ni Sotsu Mystery, Demen...  \n",
              "16212  Yama no Susume: Next Summit Adventure, Slice o...  \n",
              "16213  Scarlet Nexus Action, Fantasy Solar calendar y...  \n",
              "\n",
              "[16214 rows x 6 columns]"
            ],
            "text/html": [
              "\n",
              "  <div id=\"df-7a6d115a-2bab-4d8c-bcf5-28928e129cd6\">\n",
              "    <div class=\"colab-df-container\">\n",
              "      <div>\n",
              "<style scoped>\n",
              "    .dataframe tbody tr th:only-of-type {\n",
              "        vertical-align: middle;\n",
              "    }\n",
              "\n",
              "    .dataframe tbody tr th {\n",
              "        vertical-align: top;\n",
              "    }\n",
              "\n",
              "    .dataframe thead th {\n",
              "        text-align: right;\n",
              "    }\n",
              "</style>\n",
              "<table border=\"1\" class=\"dataframe\">\n",
              "  <thead>\n",
              "    <tr style=\"text-align: right;\">\n",
              "      <th></th>\n",
              "      <th>MAL_ID</th>\n",
              "      <th>Name</th>\n",
              "      <th>Score</th>\n",
              "      <th>Genres</th>\n",
              "      <th>sypnopsis</th>\n",
              "      <th>Input Data</th>\n",
              "    </tr>\n",
              "  </thead>\n",
              "  <tbody>\n",
              "    <tr>\n",
              "      <th>0</th>\n",
              "      <td>1</td>\n",
              "      <td>Cowboy Bebop</td>\n",
              "      <td>8.78</td>\n",
              "      <td>Action, Adventure, Comedy, Drama, Sci-Fi, Space</td>\n",
              "      <td>In the year 2071, humanity has colonized sever...</td>\n",
              "      <td>Cowboy Bebop Action, Adventure, Comedy, Drama,...</td>\n",
              "    </tr>\n",
              "    <tr>\n",
              "      <th>1</th>\n",
              "      <td>5</td>\n",
              "      <td>Cowboy Bebop: Tengoku no Tobira</td>\n",
              "      <td>8.39</td>\n",
              "      <td>Action, Drama, Mystery, Sci-Fi, Space</td>\n",
              "      <td>other day, another bounty—such is the life of ...</td>\n",
              "      <td>Cowboy Bebop: Tengoku no Tobira Action, Drama,...</td>\n",
              "    </tr>\n",
              "    <tr>\n",
              "      <th>2</th>\n",
              "      <td>6</td>\n",
              "      <td>Trigun</td>\n",
              "      <td>8.24</td>\n",
              "      <td>Action, Sci-Fi, Adventure, Comedy, Drama, Shounen</td>\n",
              "      <td>Vash the Stampede is the man with a $$60,000,0...</td>\n",
              "      <td>Trigun Action, Sci-Fi, Adventure, Comedy, Dram...</td>\n",
              "    </tr>\n",
              "    <tr>\n",
              "      <th>3</th>\n",
              "      <td>7</td>\n",
              "      <td>Witch Hunter Robin</td>\n",
              "      <td>7.27</td>\n",
              "      <td>Action, Mystery, Police, Supernatural, Drama, ...</td>\n",
              "      <td>ches are individuals with special powers like ...</td>\n",
              "      <td>Witch Hunter Robin Action, Mystery, Police, Su...</td>\n",
              "    </tr>\n",
              "    <tr>\n",
              "      <th>4</th>\n",
              "      <td>8</td>\n",
              "      <td>Bouken Ou Beet</td>\n",
              "      <td>6.98</td>\n",
              "      <td>Adventure, Fantasy, Shounen, Supernatural</td>\n",
              "      <td>It is the dark century and the people are suff...</td>\n",
              "      <td>Bouken Ou Beet Adventure, Fantasy, Shounen, Su...</td>\n",
              "    </tr>\n",
              "    <tr>\n",
              "      <th>...</th>\n",
              "      <td>...</td>\n",
              "      <td>...</td>\n",
              "      <td>...</td>\n",
              "      <td>...</td>\n",
              "      <td>...</td>\n",
              "      <td>...</td>\n",
              "    </tr>\n",
              "    <tr>\n",
              "      <th>16209</th>\n",
              "      <td>48481</td>\n",
              "      <td>Daomu Biji Zhi Qinling Shen Shu</td>\n",
              "      <td>Unknown</td>\n",
              "      <td>Adventure, Mystery, Supernatural</td>\n",
              "      <td>No synopsis information has been added to this...</td>\n",
              "      <td>Daomu Biji Zhi Qinling Shen Shu Adventure, Mys...</td>\n",
              "    </tr>\n",
              "    <tr>\n",
              "      <th>16210</th>\n",
              "      <td>48483</td>\n",
              "      <td>Mieruko-chan</td>\n",
              "      <td>Unknown</td>\n",
              "      <td>Comedy, Horror, Supernatural</td>\n",
              "      <td>ko is a typical high school student whose life...</td>\n",
              "      <td>Mieruko-chan Comedy, Horror, Supernatural ko i...</td>\n",
              "    </tr>\n",
              "    <tr>\n",
              "      <th>16211</th>\n",
              "      <td>48488</td>\n",
              "      <td>Higurashi no Naku Koro ni Sotsu</td>\n",
              "      <td>Unknown</td>\n",
              "      <td>Mystery, Dementia, Horror, Psychological, Supe...</td>\n",
              "      <td>Sequel to Higurashi no Naku Koro ni Gou .</td>\n",
              "      <td>Higurashi no Naku Koro ni Sotsu Mystery, Demen...</td>\n",
              "    </tr>\n",
              "    <tr>\n",
              "      <th>16212</th>\n",
              "      <td>48491</td>\n",
              "      <td>Yama no Susume: Next Summit</td>\n",
              "      <td>Unknown</td>\n",
              "      <td>Adventure, Slice of Life, Comedy</td>\n",
              "      <td>New Yama no Susume anime.</td>\n",
              "      <td>Yama no Susume: Next Summit Adventure, Slice o...</td>\n",
              "    </tr>\n",
              "    <tr>\n",
              "      <th>16213</th>\n",
              "      <td>48492</td>\n",
              "      <td>Scarlet Nexus</td>\n",
              "      <td>Unknown</td>\n",
              "      <td>Action, Fantasy</td>\n",
              "      <td>Solar calendar year 2020: grotesque organisms ...</td>\n",
              "      <td>Scarlet Nexus Action, Fantasy Solar calendar y...</td>\n",
              "    </tr>\n",
              "  </tbody>\n",
              "</table>\n",
              "<p>16214 rows × 6 columns</p>\n",
              "</div>\n",
              "      <button class=\"colab-df-convert\" onclick=\"convertToInteractive('df-7a6d115a-2bab-4d8c-bcf5-28928e129cd6')\"\n",
              "              title=\"Convert this dataframe to an interactive table.\"\n",
              "              style=\"display:none;\">\n",
              "        \n",
              "  <svg xmlns=\"http://www.w3.org/2000/svg\" height=\"24px\"viewBox=\"0 0 24 24\"\n",
              "       width=\"24px\">\n",
              "    <path d=\"M0 0h24v24H0V0z\" fill=\"none\"/>\n",
              "    <path d=\"M18.56 5.44l.94 2.06.94-2.06 2.06-.94-2.06-.94-.94-2.06-.94 2.06-2.06.94zm-11 1L8.5 8.5l.94-2.06 2.06-.94-2.06-.94L8.5 2.5l-.94 2.06-2.06.94zm10 10l.94 2.06.94-2.06 2.06-.94-2.06-.94-.94-2.06-.94 2.06-2.06.94z\"/><path d=\"M17.41 7.96l-1.37-1.37c-.4-.4-.92-.59-1.43-.59-.52 0-1.04.2-1.43.59L10.3 9.45l-7.72 7.72c-.78.78-.78 2.05 0 2.83L4 21.41c.39.39.9.59 1.41.59.51 0 1.02-.2 1.41-.59l7.78-7.78 2.81-2.81c.8-.78.8-2.07 0-2.86zM5.41 20L4 18.59l7.72-7.72 1.47 1.35L5.41 20z\"/>\n",
              "  </svg>\n",
              "      </button>\n",
              "      \n",
              "  <style>\n",
              "    .colab-df-container {\n",
              "      display:flex;\n",
              "      flex-wrap:wrap;\n",
              "      gap: 12px;\n",
              "    }\n",
              "\n",
              "    .colab-df-convert {\n",
              "      background-color: #E8F0FE;\n",
              "      border: none;\n",
              "      border-radius: 50%;\n",
              "      cursor: pointer;\n",
              "      display: none;\n",
              "      fill: #1967D2;\n",
              "      height: 32px;\n",
              "      padding: 0 0 0 0;\n",
              "      width: 32px;\n",
              "    }\n",
              "\n",
              "    .colab-df-convert:hover {\n",
              "      background-color: #E2EBFA;\n",
              "      box-shadow: 0px 1px 2px rgba(60, 64, 67, 0.3), 0px 1px 3px 1px rgba(60, 64, 67, 0.15);\n",
              "      fill: #174EA6;\n",
              "    }\n",
              "\n",
              "    [theme=dark] .colab-df-convert {\n",
              "      background-color: #3B4455;\n",
              "      fill: #D2E3FC;\n",
              "    }\n",
              "\n",
              "    [theme=dark] .colab-df-convert:hover {\n",
              "      background-color: #434B5C;\n",
              "      box-shadow: 0px 1px 3px 1px rgba(0, 0, 0, 0.15);\n",
              "      filter: drop-shadow(0px 1px 2px rgba(0, 0, 0, 0.3));\n",
              "      fill: #FFFFFF;\n",
              "    }\n",
              "  </style>\n",
              "\n",
              "      <script>\n",
              "        const buttonEl =\n",
              "          document.querySelector('#df-7a6d115a-2bab-4d8c-bcf5-28928e129cd6 button.colab-df-convert');\n",
              "        buttonEl.style.display =\n",
              "          google.colab.kernel.accessAllowed ? 'block' : 'none';\n",
              "\n",
              "        async function convertToInteractive(key) {\n",
              "          const element = document.querySelector('#df-7a6d115a-2bab-4d8c-bcf5-28928e129cd6');\n",
              "          const dataTable =\n",
              "            await google.colab.kernel.invokeFunction('convertToInteractive',\n",
              "                                                     [key], {});\n",
              "          if (!dataTable) return;\n",
              "\n",
              "          const docLinkHtml = 'Like what you see? Visit the ' +\n",
              "            '<a target=\"_blank\" href=https://colab.research.google.com/notebooks/data_table.ipynb>data table notebook</a>'\n",
              "            + ' to learn more about interactive tables.';\n",
              "          element.innerHTML = '';\n",
              "          dataTable['output_type'] = 'display_data';\n",
              "          await google.colab.output.renderOutput(dataTable, element);\n",
              "          const docLink = document.createElement('div');\n",
              "          docLink.innerHTML = docLinkHtml;\n",
              "          element.appendChild(docLink);\n",
              "        }\n",
              "      </script>\n",
              "    </div>\n",
              "  </div>\n",
              "  "
            ]
          },
          "metadata": {},
          "execution_count": 26
        }
      ]
    },
    {
      "cell_type": "code",
      "source": [
        "input=data['Input Data'].tolist()\n",
        "len(input)"
      ],
      "metadata": {
        "colab": {
          "base_uri": "https://localhost:8080/"
        },
        "id": "vfOSQZ5hwIz_",
        "outputId": "09049d78-e9b2-407d-ace5-48ea8790f48f"
      },
      "execution_count": 4,
      "outputs": [
        {
          "output_type": "execute_result",
          "data": {
            "text/plain": [
              "16214"
            ]
          },
          "metadata": {},
          "execution_count": 4
        }
      ]
    },
    {
      "cell_type": "code",
      "source": [
        "# clean and uniform the text\n",
        "def preprocess_string(s):\n",
        "  s = re.sub(r\"won't\", \"will not\", s)\n",
        "  s = re.sub(r\"can\\'t\", \"can not\", s)\n",
        "  s = re.sub(r\"n\\’t\", \" not\", s)\n",
        "  s = re.sub(r\"\\’re\", \" are\", s)\n",
        "  s = re.sub(r\"\\’s\", \" is\", s)\n",
        "  s = re.sub(r\"\\’d\", \" would\", s)\n",
        "  s = re.sub(r\"\\’ll\", \" will\", s)\n",
        "  s = re.sub(r\"\\’t\", \" not\", s)\n",
        "  s = re.sub(r\"\\’ve\", \" have\", s)\n",
        "  s = re.sub(r\"\\’m\", \" am\", s)\n",
        "  s = re.sub(r'[0–9]+', '', s)\n",
        "  s=re.sub(r'[^\\w\\s]','' '', s)\n",
        "  s=stem.stem(s)\n",
        "  return s"
      ],
      "metadata": {
        "id": "ESrpxY8jsUZK"
      },
      "execution_count": 5,
      "outputs": []
    },
    {
      "cell_type": "code",
      "source": [
        "# def preprocess(docs):\n",
        "#   new_docs=[]\n",
        "#   for doc in docs:\n",
        "#     new_doc=[]\n",
        "#     tmp={}\n",
        "#     for word in doc.lower().split():\n",
        "#       if word not in stop_words:\n",
        "#         a=preprocess_string(word)\n",
        "#         a=stem.stem(a)\n",
        "#         tmp[a]=tmp.get(a,0)+1\n",
        "#         new_doc.append(a)\n",
        "#     f.append(tmp)\n",
        "#     new_docs.append(new_doc)\n",
        "#   return new_docs\n"
      ],
      "metadata": {
        "id": "2gM-ux94y31Q"
      },
      "execution_count": 61,
      "outputs": []
    },
    {
      "cell_type": "code",
      "source": [
        "f=[]\n",
        "tf={}\n",
        "idf={}\n",
        "k1=1.5\n",
        "b=0.75\n",
        "\n",
        "def init(docs):\n",
        "  D=len(docs)\n",
        "  for doc in docs:\n",
        "    tmp={}\n",
        "    for word in doc.lower().split():\n",
        "      if word not in stop_words:\n",
        "        a=preprocess_string(word)\n",
        "        a=stem.stem(a)\n",
        "        tmp[a]=tmp.get(a,0)+1\n",
        "    f.append(tmp)\n",
        "    for k in tmp.keys():\n",
        "      tf[k]=tf.get(k,0)+1\n",
        "  for k,v in tf.items():\n",
        "    idf[k]=math.log(D-v+0.5) - math.log(v+0.5)\n",
        "\n",
        "  avgd=sum(len(doc)+0.0 for doc in docs)/D\n",
        "  return D,avgd"
      ],
      "metadata": {
        "id": "YzLWwO4i2sOJ"
      },
      "execution_count": 13,
      "outputs": []
    },
    {
      "cell_type": "code",
      "source": [
        "def sim(doc,index):\n",
        "  score =0.0\n",
        "  for word in doc:\n",
        "    if word not in f[index]:\n",
        "      continue\n",
        "    else:\n",
        "      d=len(f[index])\n",
        "      score +=(idf[word]* f[index][word]*(k1+1)/(f[index][word]+k1*(1-b+b*d/avgd)))\n",
        "  return score\n",
        "def sim_overall(doc):\n",
        "  scores=[]\n",
        "  for index in range(D):\n",
        "    score =sim(doc,index)\n",
        "    scores.append(score)\n",
        "  return scores"
      ],
      "metadata": {
        "id": "zbVJzxXZ7lnQ"
      },
      "execution_count": 18,
      "outputs": []
    },
    {
      "cell_type": "code",
      "source": [
        "D,avgd=init(input)\n"
      ],
      "metadata": {
        "id": "V4I6xQ_WzS1V"
      },
      "execution_count": 14,
      "outputs": []
    },
    {
      "cell_type": "code",
      "source": [
        "D,avgd"
      ],
      "metadata": {
        "colab": {
          "base_uri": "https://localhost:8080/"
        },
        "id": "zBmcwO3OCSOC",
        "outputId": "95893197-5621-47ee-ca29-c5d5c9f5095d"
      },
      "execution_count": 15,
      "outputs": [
        {
          "output_type": "execute_result",
          "data": {
            "text/plain": [
              "(16214, 428.74935241149626)"
            ]
          },
          "metadata": {},
          "execution_count": 15
        }
      ]
    },
    {
      "cell_type": "code",
      "source": [
        "tf"
      ],
      "metadata": {
        "id": "V8U_0L_1Cgg4"
      },
      "execution_count": null,
      "outputs": []
    },
    {
      "cell_type": "code",
      "source": [
        "idf"
      ],
      "metadata": {
        "id": "Ya0Txhn4CnEv"
      },
      "execution_count": null,
      "outputs": []
    },
    {
      "cell_type": "code",
      "source": [
        "##\n",
        "import heapq\n",
        "res=sim_overall('comedy')\n",
        "re1=map(res.index,heapq.nlargest(5,res))\n",
        "re2=heapq.nlargest(5,res)\n",
        "print(list(re1),re2)"
      ],
      "metadata": {
        "colab": {
          "base_uri": "https://localhost:8080/"
        },
        "id": "ZF5i29IHC2Uh",
        "outputId": "4ad04b8b-b1c1-4dc6-acad-e535a6d6e6fa"
      },
      "execution_count": 38,
      "outputs": [
        {
          "output_type": "stream",
          "name": "stdout",
          "text": [
            "[4263, 11929, 5969, 5528, 5529] [23.399245271890756, 20.37090799954332, 18.879770132141424, 15.514535571478126, 15.457183402492502]\n"
          ]
        }
      ]
    },
    {
      "cell_type": "code",
      "source": [
        "# re1 is the index of the dataframe row number for top 5 highest, re2 is the score\n",
        "def BM25_search(string):\n",
        "  res=sim_overall(string)\n",
        "  re1=map(res.index,heapq.nlargest(5,res))\n",
        "  re2=heapq.nlargest(5,res)\n",
        "  return(list(re1),re2)"
      ],
      "metadata": {
        "id": "vkKc9hP7ORV5"
      },
      "execution_count": 41,
      "outputs": []
    },
    {
      "cell_type": "code",
      "source": [
        "BM25_search('school')"
      ],
      "metadata": {
        "colab": {
          "base_uri": "https://localhost:8080/"
        },
        "id": "fj2sxsnoOfnB",
        "outputId": "f9b2dfd1-24c3-4d32-a92b-c2168432a3cf"
      },
      "execution_count": 42,
      "outputs": [
        {
          "output_type": "stream",
          "name": "stdout",
          "text": [
            "[4263, 903, 348, 15435, 521] [40.71399743914366, 26.941557483397894, 26.611868662928092, 26.199655764695105, 24.512150626047088]\n"
          ]
        }
      ]
    },
    {
      "cell_type": "code",
      "source": [
        "data.loc[4263]"
      ],
      "metadata": {
        "colab": {
          "base_uri": "https://localhost:8080/"
        },
        "id": "7gxF7zN9L5vw",
        "outputId": "2c7769b8-7a4f-4f53-ad0c-7fd15c06605a"
      },
      "execution_count": 43,
      "outputs": [
        {
          "output_type": "execute_result",
          "data": {
            "text/plain": [
              "MAL_ID                                                     7245\n",
              "Name                  Sekai Meisaku Douwa: Wow! Maerchen Oukoku\n",
              "Score                                                      6.52\n",
              "Genres                                                  Fantasy\n",
              "sypnopsis     Based on Western tales from the usual suspects...\n",
              "Input Data    Sekai Meisaku Douwa: Wow! Maerchen Oukoku Fant...\n",
              "Name: 4263, dtype: object"
            ]
          },
          "metadata": {},
          "execution_count": 43
        }
      ]
    }
  ]
}